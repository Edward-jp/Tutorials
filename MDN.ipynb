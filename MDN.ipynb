{
 "cells": [
  {
   "cell_type": "markdown",
   "metadata": {},
   "source": [
    "# 混合密度ネットワーク"
   ]
  },
  {
   "cell_type": "markdown",
   "metadata": {},
   "source": [
    "混合密度ネットワーク(MDN)(Bishop, 1994) は畳み込みニューラルネットワークと混合密度モデルを組み合わせることで実現されるモデルです。\n",
    "\n",
    "ここではEdwardを用いた例を示します。原文は[こちら](http://edwardlib.org/tutorials/mixture-density-network)にあります。"
   ]
  },
  {
   "cell_type": "markdown",
   "metadata": {},
   "source": [
    "# Data"
   ]
  },
  {
   "cell_type": "code",
   "execution_count": null,
   "metadata": {},
   "outputs": [],
   "source": [
    "MDNについて説明した[David Haのブログ記事](http://blog.otoro.net/2015/11/24/mixture-density-networks-with-tensorflow/)と同じデータを用います。\n",
    "これはそれぞれの入力$x_n$から複数の出力$y_n$から推測する逆問題です。"
   ]
  },
  {
   "cell_type": "code",
   "execution_count": 2,
   "metadata": {},
   "outputs": [
    {
     "name": "stderr",
     "output_type": "stream",
     "text": [
      "/usr/local/Cellar/python3/3.6.3/Frameworks/Python.framework/Versions/3.6/lib/python3.6/importlib/_bootstrap.py:219: RuntimeWarning: compiletime version 3.5 of module 'tensorflow.python.framework.fast_tensor_util' does not match runtime version 3.6\n",
      "  return f(*args, **kwds)\n",
      "/Users/apple/Library/Python/3.6/lib/python/site-packages/h5py/__init__.py:36: FutureWarning: Conversion of the second argument of issubdtype from `float` to `np.floating` is deprecated. In future, it will be treated as `np.float64 == np.dtype(float).type`.\n",
      "  from ._conv import register_converters as _register_converters\n"
     ]
    },
    {
     "name": "stdout",
     "output_type": "stream",
     "text": [
      "Size of features in training data: (3750, 1)\n",
      "Size of output in training data: (3750,)\n",
      "Size of features in test data: (1250, 1)\n",
      "Size of output in test data: (1250,)\n"
     ]
    },
    {
     "data": {
      "text/plain": [
       "<matplotlib.axes._subplots.AxesSubplot at 0x11b9119e8>"
      ]
     },
     "execution_count": 2,
     "metadata": {},
     "output_type": "execute_result"
    },
    {
     "data": {
      "image/png": "[encoded data removed]",
      "text/plain": [
       "<matplotlib.figure.Figure at 0x107e13cc0>"
      ]
     },
     "metadata": {},
     "output_type": "display_data"
    }
   ],
   "source": [
    "import edward as ed\n",
    "import numpy as np\n",
    "import tensorflow as tf\n",
    "\n",
    "import seaborn as sns\n",
    "%matplotlib inline\n",
    "\n",
    "from sklearn.model_selection import train_test_split\n",
    "\n",
    "def build_toy_dataset(N):\n",
    "  y_data = np.random.uniform(-10.5, 10.5, N)\n",
    "  r_data = np.random.normal(size=N)  # random noise\n",
    "  x_data = np.sin(0.75 * y_data) * 7.0 + y_data * 0.5 + r_data * 1.0\n",
    "  x_data = x_data.reshape((N, 1))\n",
    "  return train_test_split(x_data, y_data, random_state=42)\n",
    "\n",
    "N = 5000  # number of data points\n",
    "D = 1  # number of features\n",
    "\n",
    "X_train, X_test, y_train, y_test = build_toy_dataset(N)\n",
    "print(\"Size of features in training data: {}\".format(X_train.shape))\n",
    "print(\"Size of output in training data: {}\".format(y_train.shape))\n",
    "print(\"Size of features in test data: {}\".format(X_test.shape))\n",
    "print(\"Size of output in test data: {}\".format(y_test.shape))\n",
    "\n",
    "sns.regplot(X_train, y_train, fit_reg=False)\n"
   ]
  },
  {
   "cell_type": "markdown",
   "metadata": {},
   "source": [
    "Tensorflowのplaceholderを定義しました。これはす移植処理の間データのバッチを取り入れるのに使われます。\n",
    "これはEdward がmodelにdataを取り入れれるための方法のうちの一つです。"
   ]
  },
  {
   "cell_type": "code",
   "execution_count": 3,
   "metadata": {},
   "outputs": [],
   "source": [
    "X_ph = tf.placeholder(tf.float32, [None, D])\n",
    "y_ph = tf.placeholder(tf.float32, [None])"
   ]
  },
  {
   "cell_type": "markdown",
   "metadata": {},
   "source": [
    "# Model"
   ]
  },
  {
   "cell_type": "markdown",
   "metadata": {},
   "source": [
    "ネットワークによりパラメータが決定された20個の正規分布の混合を使います。これは所属する確率"
   ]
  },
  {
   "cell_type": "code",
   "execution_count": null,
   "metadata": {},
   "outputs": [],
   "source": [
    "from edward.models import Categorical, Mixture, Normal\n",
    "\n",
    "def neural_network(X):\n",
    "  \"\"\"loc, scale, logits = NN(x; theta)\"\"\"\n",
    "  # 2 hidden layers with 15 hidden units\n",
    "  net = tf.layers.dense(X, 15, activation=tf.nn.relu)\n",
    "  net = tf.layers.dense(net, 15, activation=tf.nn.relu)\n",
    "  locs = tf.layers.dense(net, K, activation=None)\n",
    "  scales = tf.layers.dense(net, K, activation=tf.exp)\n",
    "  logits = tf.layers.dense(net, K, activation=None)\n",
    "  return locs, scales, logits\n",
    "\n",
    "K = 20  # number of mixture components\n",
    "\n",
    "locs, scales, logits = neural_network(X_ph)\n",
    "cat = Categorical(logits=logits)\n",
    "components = [Normal(loc=loc, scale=scale) for loc, scale\n",
    "              in zip(tf.unstack(tf.transpose(locs)),\n",
    "                     tf.unstack(tf.transpose(scales)))]\n",
    "y = Mixture(cat=cat, components=components, value=tf.zeros_like(y_ph))"
   ]
  }
 ],
 "metadata": {
  "kernelspec": {
   "display_name": "Python 3",
   "language": "python",
   "name": "python3"
  },
  "language_info": {
   "codemirror_mode": {
    "name": "ipython",
    "version": 3
   },
   "file_extension": ".py",
   "mimetype": "text/x-python",
   "name": "python",
   "nbconvert_exporter": "python",
   "pygments_lexer": "ipython3",
   "version": "3.6.3"
  }
 },
 "nbformat": 4,
 "nbformat_minor": 2
}
