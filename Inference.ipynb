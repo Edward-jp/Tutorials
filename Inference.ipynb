{
 "cells": [
  {
   "cell_type": "markdown",
   "metadata": {},
   "source": [
    "# 確率モデルの推論"
   ]
  },
  {
   "cell_type": "markdown",
   "metadata": {},
   "source": [
    "このチュートリアルでは確率モデルの推論とは何を意味するのかという問いかけをします。\n",
    "\n",
    "この問いはどのようにEdwardで推論アルゴリズムを書くのかを理解するためのものです。"
   ]
  },
  {
   "cell_type": "markdown",
   "metadata": {},
   "source": [
    "## 事後分布"
   ]
  },
  {
   "cell_type": "markdown",
   "metadata": {},
   "source": [
    "我々はどのようにしてモデル$p(x,z)$をデータxの挙動を調べるのに使えるでしょうか。\n",
    "別の言い方をするとどのような隠れた構造zがデータ(の分布)を説明できるでしょうか。\n",
    "\n",
    "モデルを使って隠れた構造を推定する方法をここでは調べます。"
   ]
  },
  {
   "cell_type": "markdown",
   "metadata": {},
   "source": [
    "推論の一つの方法は**事後分布**を定義するためにベイズの法則を用いることです。"
   ]
  },
  {
   "cell_type": "markdown",
   "metadata": {},
   "source": [
    "$\\begin{aligned} p(\\mathbf{z} \\mid \\mathbf{x}) &= \\frac{p(\\mathbf{x}, \\mathbf{z})}{\\int p(\\mathbf{x}, \\mathbf{z}) \\text{d}\\mathbf{z}}.\\end{aligned}$\n",
    "\n"
   ]
  },
  {
   "cell_type": "markdown",
   "metadata": {},
   "source": [
    "この事後分布はデータxで条件付けられた隠れ変数zに関する分布です。表現学習からの比喩を使うとこれはデータの隠れた構造を確率的に記述したものといえます。"
   ]
  },
  {
   "cell_type": "markdown",
   "metadata": {},
   "source": [
    "帰納的な見方をすれば古典的なベイジアン(と頻度主義者)が実践してきたように事後分布は隠れた変数に関する(訳注: データを用いて)アップデータとされた仮説です。\n",
    "\n",
    "一方Box, Rubin, Gelmanのような統計家が行ってきたような[仮説演繹法的](https://ja.wikipedia.org/wiki/%E4%BB%AE%E8%AA%AC%E6%BC%94%E7%B9%B9%E6%B3%95)な見方をすれば、事後分布とは単にデータの分布に対する当てはめであり、\n",
    "それは批評され改訂されうるものです(Box, 1982; Gelman & Shalizi, 2013)"
   ]
  },
  {
   "cell_type": "markdown",
   "metadata": {},
   "source": [
    "# 事後分布の推測"
   ]
  },
  {
   "cell_type": "markdown",
   "metadata": {},
   "source": [
    "これで事後分布が何を表現しているかがわかりました。ではどのように計算すればいいのでしょうか。それは推論計算の中心的課題になります。\n",
    "\n",
    "事後分布は規格化定数、すなわち分母の積分($\\int p(x,z)dz$)を含むため計算が難しいです。これはしばしば高次元の積分となり解析的な(閉じた)形で書き下すことができません。そこで事後分布の計算は*近似的な*計算をすることとなります。\n",
    "\n",
    "Edwardでどのように具体的な推論の計算をしているかは[inference API](http://edwardlib.org/api/inference)を参照してください。[チュートリアル](README.md)ではいくつかの詳細な具体例をあげています。\n"
   ]
  },
  {
   "cell_type": "markdown",
   "metadata": {},
   "source": [
    "# References"
   ]
  },
  {
   "cell_type": "markdown",
   "metadata": {},
   "source": [
    "- Box, G. E. (1982). An apology for ecumenism in statistics. DTIC Document.\n",
    "\n",
    "- Gelman, A., & Shalizi, C. R. (2013). Philosophy and the practice of bayesian statistics. British Journal of Mathematical and Statistical Psychology, 66(1), 8–38."
   ]
  },
  {
   "cell_type": "code",
   "execution_count": null,
   "metadata": {
    "collapsed": true
   },
   "outputs": [],
   "source": []
  }
 ],
 "metadata": {
  "kernelspec": {
   "display_name": "Python [Root]",
   "language": "python",
   "name": "Python [Root]"
  },
  "language_info": {
   "codemirror_mode": {
    "name": "ipython",
    "version": 2
   },
   "file_extension": ".py",
   "mimetype": "text/x-python",
   "name": "python",
   "nbconvert_exporter": "python",
   "pygments_lexer": "ipython2",
   "version": "2.7.12"
  }
 },
 "nbformat": 4,
 "nbformat_minor": 0
}
