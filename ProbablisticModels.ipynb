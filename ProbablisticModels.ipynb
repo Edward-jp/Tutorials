{
 "cells": [
  {
   "cell_type": "markdown",
   "metadata": {},
   "source": [
    "# 確率モデル"
   ]
  },
  {
   "cell_type": "markdown",
   "metadata": {},
   "source": [
    "確率モデルとは自然現象からの観測がどのようにされるかを主張するものです。\n",
    "\n",
    "モデルはデータに対応する観測変数xとxを生成する隠れた構造を　する隠れ変数(latent variables)zからなる**結合分布**"
   ]
  },
  {
   "cell_type": "markdown",
   "metadata": {},
   "source": [
    "$p(x,z)$"
   ]
  },
  {
   "cell_type": "markdown",
   "metadata": {},
   "source": [
    "で表現されます。結合分布は2つの因子に分解できます。\n",
    "\n",
    "**尤度**(likelihood)"
   ]
  },
  {
   "cell_type": "markdown",
   "metadata": {},
   "source": [
    "$p(x|z)$"
   ]
  },
  {
   "cell_type": "markdown",
   "metadata": {},
   "source": [
    "はデータxがどのように隠れ変数zに依存しているのかを表現する確率変数です。尤度はデータを生成する過程を示しています。\n",
    "データxはzによって表現される特定の隠れた構造によって条件付けられた尤度から引っ張られてくるということもできます。\n",
    "\n",
    "**事前分布**(prior)"
   ]
  },
  {
   "cell_type": "markdown",
   "metadata": {},
   "source": [
    "$p(z)$"
   ]
  },
  {
   "cell_type": "markdown",
   "metadata": {},
   "source": [
    "はデータの中に現れる隠れ変数の分布を表現する確率分布です。この分布は隠れた構造が生成されるプロセスを仮定するものです。\n",
    "\n",
    "Edwardでどのようにモデルを記述するかはmodel APIのドキュメントを参照してください。この[チュートリアル](README.md)ではいくつかの例を詳細に商会しています。"
   ]
  }
 ],
 "metadata": {
  "kernelspec": {
   "display_name": "Python [Root]",
   "language": "python",
   "name": "Python [Root]"
  },
  "language_info": {
   "codemirror_mode": {
    "name": "ipython",
    "version": 2
   },
   "file_extension": ".py",
   "mimetype": "text/x-python",
   "name": "python",
   "nbconvert_exporter": "python",
   "pygments_lexer": "ipython2",
   "version": "2.7.12"
  }
 },
 "nbformat": 4,
 "nbformat_minor": 0
}
