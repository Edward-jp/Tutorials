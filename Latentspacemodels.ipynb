{
 "cells": [
  {
   "cell_type": "markdown",
   "metadata": {},
   "source": [
    "# 神経データに関する隠れ空間モデル"
   ]
  },
  {
   "cell_type": "markdown",
   "metadata": {},
   "source": [
    "多くの科学の分野は社会ネットワーク、統計物理におけるネットワーク、生物学的ネットワーク、情報ネットワークなど\n",
    "ネットワークデータの研究を含みます(Goldenberg, Zheng, Fienberg, & Airoldi, 2010; Newman, 2010)。\n",
    "\n",
    "ネットワークのノード(接点)に対してその結合のパターンから何を知ることができるでしょうか。\n",
    "隠れ空間モデルを使ってその研究を始めることができます(Hoff, Raftery, & Handcock, 2002)。\n",
    "\n",
    "隠れ空間モデルはネットワークのノードを隠れた空間に埋め込みます。\n",
    "2つのノードの間にあるエッジ(辺)ができる尤度は隠れた空間内での距離によって決まります。\n",
    "\n",
    "ここで我々は神経科学のネットワークデータを解析します。Jupyter notebookでの原文は [ここ](http://nbviewer.jupyter.org/github/blei-lab/edward/blob/master/notebooks/latent_space_models.ipynb)にあります。"
   ]
  },
  {
   "cell_type": "code",
   "execution_count": 10,
   "metadata": {},
   "outputs": [
    {
     "name": "stderr",
     "output_type": "stream",
     "text": [
      "/usr/local/Cellar/python3/3.6.3/Frameworks/Python.framework/Versions/3.6/lib/python3.6/importlib/_bootstrap.py:219: RuntimeWarning: compiletime version 3.5 of module 'tensorflow.python.framework.fast_tensor_util' does not match runtime version 3.6\n",
      "  return f(*args, **kwds)\n",
      "/Users/apple/Library/Python/3.6/lib/python/site-packages/h5py/__init__.py:36: FutureWarning: Conversion of the second argument of issubdtype from `float` to `np.floating` is deprecated. In future, it will be treated as `np.float64 == np.dtype(float).type`.\n",
      "  from ._conv import register_converters as _register_converters\n"
     ]
    }
   ],
   "source": [
    "from __future__ import absolute_import\n",
    "from __future__ import division\n",
    "from __future__ import print_function\n",
    "\n",
    "import edward as ed\n",
    "import numpy as np\n",
    "import tensorflow as tf\n",
    "\n",
    "from edward.models import Normal, Poisson\n",
    "from observations import celegans"
   ]
  },
  {
   "cell_type": "markdown",
   "metadata": {},
   "source": [
    "# データ"
   ]
  },
  {
   "cell_type": "markdown",
   "metadata": {},
   "source": [
    "使用するデータは[Mark Newmanのリポジトリ](http://www-personal.umich.edu/~mejn/netdata/)のものです。\n",
    "これは線虫[C. Elegans](https://en.wikipedia.org/wiki/Caenorhabditis_elegans)の神経ネットワークを表現する\n",
    "重みづけられた有向のネットワークでWhite, Southgate, Thomson, & Brenner (1986)の実験データ\n",
    "Watts & Strogatz (1998)がまとめたものです。\n",
    "\n",
    "この神経ネットワークは約300個のニューロンで構成されています。それぞれのニューロン間の結合は\n",
    "その強さを表した重み(正の整数)に対応します。\n",
    "\n",
    "まずデータをロードします。"
   ]
  },
  {
   "cell_type": "code",
   "execution_count": 63,
   "metadata": {},
   "outputs": [],
   "source": [
    "import os\n",
    "from observations.util import maybe_download_and_extract\n",
    "\n",
    "\"\"\"Load the neural network of the worm C. Elegans [@watts1998collective].                                                                                                                                                                                                  \n",
    "  The neural network consists of around 300 neurons. Each connection                                                                                                                                                                                                         \n",
    "  between neurons is associated with a weight (positive integer)                                                                                                                                                                                                             \n",
    "  capturing the strength of the connection.                                                                                                                                                                                                                                  \n",
    "                                                                                                                                                                                                                                                                             \n",
    "  Args:                                                                                                                                                                                                                                                                      \n",
    "    path: str.                                                                                                                                                                                                                                                               \n",
    "      Path to directory which either stores file or otherwise file will                                                                                                                                                                                                      \n",
    "      be downloaded and extracted there. Filename is `celegansneural.gml`.                                                                                                                                                                                                   \n",
    "                                                                                                                                                                                                                                                                             \n",
    "  Returns:                                                                                                                                                                                                                                                                   \n",
    "    Adjacency matrix as a np.darray `x_train` with 297 rows and 297                                                                                                                                                                                                          \n",
    "    columns.                                                                                                                                                                                                                                                                 \n",
    "\"\"\"\n",
    "def celegans(path):\n",
    "    import networkx as nx\n",
    "    path = os.path.expanduser(path)\n",
    "    filename = 'celegansneural.gml'\n",
    "    if not os.path.exists(os.path.join(path, filename)):\n",
    "        url = 'http://www-personal.umich.edu/~mejn/netdata/celegansneural.zip'\n",
    "        maybe_download_and_extract(path, url)\n",
    "\n",
    "    graph = nx.read_gml(os.path.join(path, filename))\n",
    "    x_train = np.zeros([graph.number_of_nodes(), graph.number_of_nodes()],\n",
    "                     dtype=np.int)\n",
    "    for i, j,k in graph.edges:\n",
    "        try:\n",
    "            x_train[int(i),int(j)] = int(graph[i][j][0]['value']) #左辺のintが必要\n",
    "        except:\n",
    "            pass\n",
    "    return x_train #,graph"
   ]
  },
  {
   "cell_type": "code",
   "execution_count": 64,
   "metadata": {},
   "outputs": [],
   "source": [
    "#from observations import celegans\n",
    "x_train = celegans(\"data\")"
   ]
  },
  {
   "cell_type": "markdown",
   "metadata": {},
   "source": [
    "# モデル"
   ]
  },
  {
   "cell_type": "markdown",
   "metadata": {},
   "source": [
    "ニューロンに関してその結合パターンから何を知ることができるでしょうか。\n",
    "隠れ空間モデル(Hoff et al., 2002)を使うことで我々は個々のニューロン間の類似性を捉えられる隠れ空間への埋め込みを学習することができます。\n",
    "\n",
    "それぞれのニューロンnはネットワークのノードで隠れ空間内での位置$z_n\\in\\mathbb{R}^K$が対応します。それぞれの隠れ空間における位置にガウシアン事前分布を設定します。\n",
    "\n",
    "ノードi,j間のエッジのオッズの対数はノードの隠れた表現のユークリッド距離$|z_i- z_j|$に比例します。ここでエッジの重み ($Y_{ij}$) をポアソン尤度でモデル化します。その割合は隠れた空間での距離の逆数になります。生成モデルは以下のようになります。\n",
    "\n",
    "1. \n",
    "$n=1,\\ldots,N$の各ノードに対し,\n",
    "\\begin{align}\n",
    "z_n \\sim N(0,I).\n",
    "\\end{align}\n",
    "2. \n",
    "各エッジ $(i,j)\\in\\{1,\\ldots,N\\}\\times\\{1,\\ldots,N\\}$　に対し,\n",
    "\\begin{align}\n",
    "Y_{ij} \\sim \\text{Poisson}\\Bigg(\\frac{1}{|z_i - z_j|}\\Bigg).\n",
    "\\end{align}\n",
    "\n",
    "Edwardでは以下のようにモデル化されます。"
   ]
  },
  {
   "cell_type": "code",
   "execution_count": 15,
   "metadata": {},
   "outputs": [
    {
     "name": "stdout",
     "output_type": "stream",
     "text": [
      "WARNING:tensorflow:From <ipython-input-15-245e5a555c12>:9: calling reduce_sum (from tensorflow.python.ops.math_ops) with keep_dims is deprecated and will be removed in a future version.\n",
      "Instructions for updating:\n",
      "keep_dims is deprecated, use keepdims instead\n"
     ]
    }
   ],
   "source": [
    "N = x_train.shape[0]  #データ点の数\n",
    "K = 3  # 隠れた次元\n",
    "\n",
    "z = Normal(loc=tf.zeros([N, K]), scale=tf.ones([N, K]))\n",
    "\n",
    "# N x N 距離行列を計算する\n",
    "# 1. ベクトル [||z_1||^2, ||z_2||^2, ..., ||z_N||^2]　を作りそれを並べてN個の行を作る。\n",
    "xp = tf.tile(tf.reduce_sum(tf.pow(z, 2), 1, keep_dims=True), [1, N])\n",
    "# 2. 　(i, j) 成分が ||z_i||^2 + ||z_j||^2- 2 z_i^T z_j　のN x N 行列　\n",
    "xp = xp + tf.transpose(xp) - 2 * tf.matmul(z, z, transpose_b=True)\n",
    "# 3. ペアワイズ距離の逆数を取り対角成分に沿って0に近くする\n",
    "xp = 1.0 / tf.sqrt(xp + tf.diag(tf.zeros(N) + 1e3))\n",
    "\n",
    "x = Poisson(rate=xp)"
   ]
  },
  {
   "cell_type": "markdown",
   "metadata": {},
   "source": [
    "# 推測"
   ]
  },
  {
   "cell_type": "markdown",
   "metadata": {},
   "source": [
    "最大事後分布推定はEdwardでは単純です。2つの事柄、インスタンス化とそれを走らせる処理が要求されます。"
   ]
  },
  {
   "cell_type": "code",
   "execution_count": 66,
   "metadata": {},
   "outputs": [
    {
     "name": "stderr",
     "output_type": "stream",
     "text": [
      "/usr/local/lib/python3.6/site-packages/edward/util/random_variables.py:52: FutureWarning: Conversion of the second argument of issubdtype from `float` to `np.floating` is deprecated. In future, it will be treated as `np.float64 == np.dtype(float).type`.\n",
      "  not np.issubdtype(value.dtype, np.float) and \\\n",
      "/usr/local/lib/python3.6/site-packages/edward/util/random_variables.py:53: FutureWarning: Conversion of the second argument of issubdtype from `int` to `np.signedinteger` is deprecated. In future, it will be treated as `np.int64 == np.dtype(int).type`.\n",
      "  not np.issubdtype(value.dtype, np.int) and \\\n"
     ]
    }
   ],
   "source": [
    "inference = ed.MAP([z], data={x: x_train})"
   ]
  },
  {
   "cell_type": "markdown",
   "metadata": {},
   "source": [
    "[MAP 推定のチュートリアル](http://edwardlib.org/tutorials/map)を参照\n",
    "\n",
    "代わりに変分推論を走らせることもできます。これには変分モデルと`KLqp`をインスタンス化することが必要になります。"
   ]
  },
  {
   "cell_type": "code",
   "execution_count": null,
   "metadata": {},
   "outputs": [],
   "source": [
    "# Alternatively, run\n",
    "# qz = Normal(loc=tf.Variable(tf.random_normal([N * K])),\n",
    "#             scale=tf.nn.softplus(tf.Variable(tf.random_normal([N * K]))))\n",
    "# inference = ed.KLqp({z: qz}, data={x: x_train})"
   ]
  },
  {
   "cell_type": "markdown",
   "metadata": {},
   "source": [
    "[変分推論](http://edwardlib.org/tutorials/variational-inference)のチュートリアルも参照\n",
    "\n",
    "最後に以下の行で推論処理を2500イテレーションだけ走らせます。"
   ]
  },
  {
   "cell_type": "code",
   "execution_count": 67,
   "metadata": {},
   "outputs": [
    {
     "name": "stdout",
     "output_type": "stream",
     "text": [
      "2500/2500 [100%] ██████████████████████████████ Elapsed: 11s | Loss: 30781.020\n"
     ]
    }
   ],
   "source": [
    "inference.run(n_iter=2500)"
   ]
  },
  {
   "cell_type": "code",
   "execution_count": 69,
   "metadata": {},
   "outputs": [
    {
     "name": "stdout",
     "output_type": "stream",
     "text": [
      "10000/10000 [100%] ██████████████████████████████ Elapsed: 54s | Loss: 30856.160\n"
     ]
    }
   ],
   "source": [
    "inference.run(n_iter=10000)"
   ]
  },
  {
   "cell_type": "markdown",
   "metadata": {},
   "source": [
    "## Acknowledgments"
   ]
  },
  {
   "cell_type": "markdown",
   "metadata": {},
   "source": [
    "この原文の最初のバージョンを書いたMaja Rudolphに感謝します。"
   ]
  },
  {
   "cell_type": "code",
   "execution_count": null,
   "metadata": {},
   "outputs": [],
   "source": []
  }
 ],
 "metadata": {
  "kernelspec": {
   "display_name": "Python 3",
   "language": "python",
   "name": "python3"
  },
  "language_info": {
   "codemirror_mode": {
    "name": "ipython",
    "version": 3
   },
   "file_extension": ".py",
   "mimetype": "text/x-python",
   "name": "python",
   "nbconvert_exporter": "python",
   "pygments_lexer": "ipython3",
   "version": "3.6.3"
  }
 },
 "nbformat": 4,
 "nbformat_minor": 2
}
